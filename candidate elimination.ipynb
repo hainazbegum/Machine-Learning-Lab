{
 "cells": [
  {
   "cell_type": "code",
   "execution_count": 1,
   "id": "dd90d32a-ccec-40fb-bc07-2cdddc9f221d",
   "metadata": {},
   "outputs": [
    {
     "name": "stdout",
     "output_type": "stream",
     "text": [
      "['Sunny', 'Warm', 'Normal', 'Strong', 'Warm', 'Same', 'Yes']\n",
      "['Sunny', 'Warm', 'High', 'Strong', 'Warm', 'Same', 'Yes']\n",
      "['Sunny', 'Cold', 'High', 'Strong', 'Warm', 'Change', 'No']\n",
      "['Sunny', 'Warm', 'High', 'Strong', 'Cool', 'Change', 'Yes']\n",
      "Initial hypothesis is \n",
      "The most specific :  ['0', '0', '0', '0', '0', '0']\n",
      "The most general :  ['?', '?', '?', '?', '?', '?']\n",
      "The candidate algorithm \n",
      "\n",
      "For instance 1 the hypothesis is S1 ['Sunny', 'Warm', 'Normal', 'Strong', 'Warm', 'Same']\n",
      "For instance 1 the hypothesis is G1 ['?', '?', '?', '?', '?', '?']\n",
      "For instance 2 the hypothesis is S2 ['Sunny', 'Warm', '?', 'Strong', 'Warm', 'Same']\n",
      "For instance 2 the hypothesis is G2 ['?', '?', '?', '?', '?', '?']\n",
      "For instance 3 the hypothesis is S3 ['Sunny', 'Warm', '?', 'Strong', 'Warm', 'Same']\n",
      "For instance 3 the hypothesis is G3 [['?', 'Warm', '?', '?', '?', '?'], ['?', '?', '?', '?', '?', 'Same']]\n",
      "For instance 4 the hypothesis is S4 ['Sunny', 'Warm', '?', 'Strong', '?', '?']\n",
      "For instance 4 the hypothesis is G4 [['?', 'Warm', '?', '?', '?', '?']]\n"
     ]
    }
   ],
   "source": [
    "import csv\n",
    "a=[]\n",
    "csvfile=open('2.csv','r') \n",
    "reader=csv.reader(csvfile) \n",
    "for row in reader:\n",
    "    a.append(row) \n",
    "    print(row)\n",
    "num_attributes=len(a[0])-1 \n",
    "print(\"Initial hypothesis is \") \n",
    "S=['0']*num_attributes \n",
    "G=['?']*num_attributes \n",
    "print(\"The most specific : \",S) \n",
    "print(\"The most general : \",G)\n",
    "\n",
    "for j in range(0,num_attributes): \n",
    "    S[j]=a[0][j]\n",
    "print(\"The candidate algorithm \\n\") \n",
    "temp=[]\n",
    "\n",
    "for i in range(0,len(a)): \n",
    "    if(a[i][num_attributes]=='Yes'):\n",
    "        for j in range(0,num_attributes): \n",
    "            if(a[i][j]!=S[j]):\n",
    "               S[j]='?'\n",
    "        for j in range(0,num_attributes):\n",
    "            for k in range(1,len(temp)):\n",
    "                if temp[k][j]!='?' and temp[k][j]!=S[j]: \n",
    "                   del temp[k]\n",
    "        print(\"For instance {0} the hypothesis is S{0}\".format(i+1),S) \n",
    "        if(len(temp)==0):\n",
    "            print(\"For instance {0} the hypothesis is G{0}\".format(i+1),G) \n",
    "        else:\n",
    "            print(\"For instance {0} the hypothesis is G{0}\".format(i+1),temp)\n",
    "\n",
    "    if(a[i][num_attributes]=='No'):\n",
    "       for j in range(0,num_attributes): \n",
    "           if(S[j]!=a[i][j] and S[j]!='?'):\n",
    "              G[j]=S[j]\n",
    "              temp.append(G)\n",
    "              G=['?']*num_attributes\n",
    "       print(\"For instance {0} the hypothesis is S{0}\".format(i+1),S) \n",
    "       print(\"For instance {0} the hypothesis is G{0}\".format(i+1),temp)\n"
   ]
  },
  {
   "cell_type": "code",
   "execution_count": null,
   "id": "cf9e0cc5-d248-4c15-8140-e7896655b5b2",
   "metadata": {},
   "outputs": [],
   "source": []
  }
 ],
 "metadata": {
  "kernelspec": {
   "display_name": "Python 3 (ipykernel)",
   "language": "python",
   "name": "python3"
  },
  "language_info": {
   "codemirror_mode": {
    "name": "ipython",
    "version": 3
   },
   "file_extension": ".py",
   "mimetype": "text/x-python",
   "name": "python",
   "nbconvert_exporter": "python",
   "pygments_lexer": "ipython3",
   "version": "3.12.7"
  }
 },
 "nbformat": 4,
 "nbformat_minor": 5
}
